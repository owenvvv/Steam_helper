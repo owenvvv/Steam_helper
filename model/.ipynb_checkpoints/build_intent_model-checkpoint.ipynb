{
 "cells": [
  {
   "cell_type": "code",
   "execution_count": 1,
   "metadata": {},
   "outputs": [
    {
     "data": {
      "text/html": [
       "<div>\n",
       "<style scoped>\n",
       "    .dataframe tbody tr th:only-of-type {\n",
       "        vertical-align: middle;\n",
       "    }\n",
       "\n",
       "    .dataframe tbody tr th {\n",
       "        vertical-align: top;\n",
       "    }\n",
       "\n",
       "    .dataframe thead th {\n",
       "        text-align: right;\n",
       "    }\n",
       "</style>\n",
       "<table border=\"1\" class=\"dataframe\">\n",
       "  <thead>\n",
       "    <tr style=\"text-align: right;\">\n",
       "      <th></th>\n",
       "      <th>Query</th>\n",
       "      <th>Intent</th>\n",
       "    </tr>\n",
       "  </thead>\n",
       "  <tbody>\n",
       "    <tr>\n",
       "      <th>0</th>\n",
       "      <td>Need help please</td>\n",
       "      <td>commonQ.assist</td>\n",
       "    </tr>\n",
       "    <tr>\n",
       "      <th>1</th>\n",
       "      <td>Need help</td>\n",
       "      <td>commonQ.assist</td>\n",
       "    </tr>\n",
       "    <tr>\n",
       "      <th>2</th>\n",
       "      <td>I need some info</td>\n",
       "      <td>commonQ.assist</td>\n",
       "    </tr>\n",
       "    <tr>\n",
       "      <th>3</th>\n",
       "      <td>Will you help me?</td>\n",
       "      <td>commonQ.assist</td>\n",
       "    </tr>\n",
       "    <tr>\n",
       "      <th>4</th>\n",
       "      <td>Need help plz</td>\n",
       "      <td>commonQ.assist</td>\n",
       "    </tr>\n",
       "  </tbody>\n",
       "</table>\n",
       "</div>"
      ],
      "text/plain": [
       "               Query          Intent\n",
       "0   Need help please  commonQ.assist\n",
       "1          Need help  commonQ.assist\n",
       "2   I need some info  commonQ.assist\n",
       "3  Will you help me?  commonQ.assist\n",
       "4      Need help plz  commonQ.assist"
      ]
     },
     "execution_count": 1,
     "metadata": {},
     "output_type": "execute_result"
    }
   ],
   "source": [
    "import pandas as pd\n",
    "import re\n",
    "\n",
    "encoding = 'utf-8'\n",
    "\n",
    "trainDF = pd.read_csv(\"../data/intent_queries.csv\", encoding=encoding)\n",
    "trainDF.head()"
   ]
  },
  {
   "cell_type": "code",
   "execution_count": 2,
   "metadata": {},
   "outputs": [
    {
     "data": {
      "text/plain": [
       "['commonQ.wait',\n",
       " 'commonQ.name',\n",
       " 'recommend.age',\n",
       " 'response.abusive',\n",
       " 'commonQ.assist',\n",
       " 'recommend',\n",
       " 'recommend.price',\n",
       " 'response.negative',\n",
       " 'commonQ.how']"
      ]
     },
     "execution_count": 2,
     "metadata": {},
     "output_type": "execute_result"
    }
   ],
   "source": [
    "unique_intents = list(set(trainDF.Intent))\n",
    "unique_intents"
   ]
  },
  {
   "cell_type": "code",
   "execution_count": 3,
   "metadata": {},
   "outputs": [],
   "source": [
    "def clean_text(text):\n",
    "    text = text.lower()\n",
    "    text = re.sub(r\"what's\", \"what is \", text)\n",
    "    text = re.sub(r\"\\'s\", \" \", text)\n",
    "    text = re.sub(r\"\\'ve\", \" have \", text)\n",
    "    text = re.sub(r\"can't\", \"can not \", text)\n",
    "    text = re.sub(r\"n't\", \" not \", text)\n",
    "    text = re.sub(r\"i'm\", \"i am \", text)\n",
    "    text = re.sub(r\"\\'re\", \" are \", text)\n",
    "    text = re.sub(r\"\\'d\", \" would \", text)\n",
    "    text = re.sub(r\"\\'ll\", \" will \", text)\n",
    "    text = re.sub(r\"\\'scuse\", \" excuse \", text)\n",
    "    text = re.sub('\\W', ' ', text)\n",
    "    text = re.sub('\\s+', ' ', text)\n",
    "    text = text.strip(' ')\n",
    "    return text"
   ]
  },
  {
   "cell_type": "code",
   "execution_count": 4,
   "metadata": {},
   "outputs": [
    {
     "data": {
      "text/plain": [
       "'can you help me'"
      ]
     },
     "execution_count": 4,
     "metadata": {},
     "output_type": "execute_result"
    }
   ],
   "source": [
    "trainDF['Query'] = trainDF['Query'].map(lambda query : clean_text(query))\n",
    "trainDF['Query'][5]"
   ]
  },
  {
   "cell_type": "code",
   "execution_count": 5,
   "metadata": {},
   "outputs": [],
   "source": [
    "from sklearn.feature_extraction.text import TfidfVectorizer,CountVectorizer,TfidfTransformer\n",
    "from sklearn.naive_bayes import MultinomialNB\n",
    "from nltk.corpus import stopwords\n",
    "stop_words = set(stopwords.words('english'))\n",
    "from sklearn.pipeline import Pipeline"
   ]
  },
  {
   "cell_type": "code",
   "execution_count": 6,
   "metadata": {},
   "outputs": [
    {
     "data": {
      "text/plain": [
       "(107, 123)"
      ]
     },
     "execution_count": 6,
     "metadata": {},
     "output_type": "execute_result"
    }
   ],
   "source": [
    "count_vect = CountVectorizer()\n",
    "X_train_counts = count_vect.fit_transform(trainDF.Query)\n",
    "X_train_counts.shape"
   ]
  },
  {
   "cell_type": "code",
   "execution_count": 7,
   "metadata": {},
   "outputs": [
    {
     "data": {
      "text/plain": [
       "(107, 123)"
      ]
     },
     "execution_count": 7,
     "metadata": {},
     "output_type": "execute_result"
    }
   ],
   "source": [
    "tfidf_transformer = TfidfTransformer()\n",
    "X_train_tfidf = tfidf_transformer.fit_transform(X_train_counts)\n",
    "X_train_tfidf.shape"
   ]
  },
  {
   "cell_type": "code",
   "execution_count": 8,
   "metadata": {},
   "outputs": [],
   "source": [
    "# Define a pipeline combining a text feature extractor with classifier\n",
    "clf = MultinomialNB().fit(X_train_tfidf, trainDF.Intent)\n",
    "text_clf = Pipeline([\n",
    "    ('vect', CountVectorizer()),\n",
    "    ('tdidf', TfidfTransformer()),\n",
    "    ('clf', MultinomialNB())]\n",
    ")\n",
    "text_clf = text_clf.fit(trainDF['Query'], trainDF['Intent'])"
   ]
  },
  {
   "cell_type": "code",
   "execution_count": 9,
   "metadata": {},
   "outputs": [
    {
     "data": {
      "text/plain": [
       "'commonQ.name'"
      ]
     },
     "execution_count": 9,
     "metadata": {},
     "output_type": "execute_result"
    }
   ],
   "source": [
    "validate_query = ['who am I speaking to']\n",
    "validateDF = pd.DataFrame(validate_query, columns=['Query'])\n",
    "predict = text_clf.predict(validateDF.Query)\n",
    "predict[0]"
   ]
  },
  {
   "cell_type": "code",
   "execution_count": 10,
   "metadata": {},
   "outputs": [],
   "source": [
    "from sklearn.linear_model import SGDClassifier\n",
    "text_clf_svm = Pipeline([('vect', CountVectorizer()),\n",
    "                     ('tfidf', TfidfTransformer()),\n",
    "                     ('clf-svm', SGDClassifier(loss='log', penalty='l2',\n",
    "                                          alpha=1e-3, max_iter=100, random_state=42)),\n",
    "])\n",
    "_ = text_clf_svm.fit(trainDF['Query'], trainDF['Intent'])\n"
   ]
  },
  {
   "cell_type": "code",
   "execution_count": 11,
   "metadata": {},
   "outputs": [
    {
     "data": {
      "text/plain": [
       "'commonQ.name'"
      ]
     },
     "execution_count": 11,
     "metadata": {},
     "output_type": "execute_result"
    }
   ],
   "source": [
    "predict_svm = text_clf_svm.predict(validateDF.Query)\n",
    "predict_svm[0]"
   ]
  },
  {
   "cell_type": "code",
   "execution_count": 12,
   "metadata": {},
   "outputs": [],
   "source": [
    "import pickle\n",
    "pickle.dump(text_clf, open('./intent_MultinomialNB.pkl', 'wb'))\n",
    "pickle.dump(text_clf_svm, open('./intent_SGDClassifier.pkl', 'wb'))"
   ]
  },
  {
   "cell_type": "code",
   "execution_count": 13,
   "metadata": {},
   "outputs": [],
   "source": [
    "test_query = ['what a complete waste of time']\n",
    "testDF = pd.DataFrame(test_query, columns=['Query'])"
   ]
  },
  {
   "cell_type": "code",
   "execution_count": 14,
   "metadata": {},
   "outputs": [
    {
     "name": "stdout",
     "output_type": "stream",
     "text": [
      "['commonQ.assist' 'commonQ.how' 'commonQ.name' 'commonQ.wait' 'recommend'\n",
      " 'recommend.age' 'recommend.price' 'response.abusive' 'response.negative']\n",
      "['commonQ.name']\n",
      "[[0.07405917 0.11522875 0.17112725 0.07332483 0.13076088 0.11598263\n",
      "  0.08398046 0.08942391 0.14611211]]\n"
     ]
    }
   ],
   "source": [
    "intent_model = pickle.load(open('./intent_MultinomialNB.pkl', 'rb'))\n",
    "result = intent_model.predict(testDF.Query)\n",
    "result_proba = intent_model.predict_proba(testDF.Query)\n",
    "print(intent_model.classes_)\n",
    "print(result)\n",
    "print(result_proba)"
   ]
  },
  {
   "cell_type": "code",
   "execution_count": 15,
   "metadata": {},
   "outputs": [
    {
     "name": "stdout",
     "output_type": "stream",
     "text": [
      "['commonQ.assist' 'commonQ.how' 'commonQ.name' 'commonQ.wait' 'recommend'\n",
      " 'recommend.age' 'recommend.price' 'response.abusive' 'response.negative']\n",
      "['response.negative']\n",
      "[[0.05465825 0.08087787 0.13661008 0.07210862 0.07427255 0.08174025\n",
      "  0.08392614 0.06143841 0.35436783]]\n"
     ]
    }
   ],
   "source": [
    "intent_model_svm = pickle.load(open('./intent_SGDClassifier.pkl', 'rb'))\n",
    "result_svm = intent_model_svm.predict(testDF.Query)\n",
    "result_svm_proba = intent_model_svm.predict_proba(testDF.Query)\n",
    "print(intent_model_svm.classes_)\n",
    "print(result_svm)\n",
    "print(result_svm_proba)"
   ]
  },
  {
   "cell_type": "code",
   "execution_count": 16,
   "metadata": {},
   "outputs": [
    {
     "data": {
      "text/plain": [
       "array(['commonQ.assist', 'commonQ.how', 'commonQ.name', 'commonQ.wait',\n",
       "       'recommend', 'recommend.age', 'recommend.price',\n",
       "       'response.abusive', 'response.negative'], dtype='<U17')"
      ]
     },
     "execution_count": 16,
     "metadata": {},
     "output_type": "execute_result"
    }
   ],
   "source": [
    "text_clf_svm.classes_"
   ]
  },
  {
   "cell_type": "code",
   "execution_count": 17,
   "metadata": {},
   "outputs": [
    {
     "data": {
      "text/plain": [
       "0.35436782895565977"
      ]
     },
     "execution_count": 17,
     "metadata": {},
     "output_type": "execute_result"
    }
   ],
   "source": [
    "svc_classes = list(text_clf_svm.classes_)\n",
    "result_svm_proba[0][svc_classes.index(result_svm[0])]"
   ]
  },
  {
   "cell_type": "code",
   "execution_count": null,
   "metadata": {},
   "outputs": [],
   "source": []
  }
 ],
 "metadata": {
  "kernelspec": {
   "display_name": "Python 3",
   "language": "python",
   "name": "python3"
  },
  "language_info": {
   "codemirror_mode": {
    "name": "ipython",
    "version": 3
   },
   "file_extension": ".py",
   "mimetype": "text/x-python",
   "name": "python",
   "nbconvert_exporter": "python",
   "pygments_lexer": "ipython3",
   "version": "3.7.4"
  }
 },
 "nbformat": 4,
 "nbformat_minor": 2
}
